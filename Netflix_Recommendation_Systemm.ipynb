{
  "nbformat": 4,
  "nbformat_minor": 0,
  "metadata": {
    "colab": {
      "provenance": [],
      "collapsed_sections": [
        "J0ra6SCqcr1c",
        "zXXA6veSdtP7",
        "-WOh3gMIIMp5",
        "hNRRWSKsIC7k",
        "IfMmb7WbHbxZ"
      ]
    },
    "kernelspec": {
      "name": "python3",
      "display_name": "Python 3"
    },
    "language_info": {
      "name": "python"
    }
  },
  "cells": [
    {
      "cell_type": "markdown",
      "source": [
        "## **Load the Dataset**"
      ],
      "metadata": {
        "id": "J0ra6SCqcr1c"
      }
    },
    {
      "cell_type": "code",
      "execution_count": 1,
      "metadata": {
        "id": "JaE-3v2ACu4Q",
        "colab": {
          "base_uri": "https://localhost:8080/",
          "height": 417
        },
        "outputId": "65662f87-c075-4183-f387-4a564a1d6649"
      },
      "outputs": [
        {
          "output_type": "error",
          "ename": "FileNotFoundError",
          "evalue": "ignored",
          "traceback": [
            "\u001b[0;31m---------------------------------------------------------------------------\u001b[0m",
            "\u001b[0;31mFileNotFoundError\u001b[0m                         Traceback (most recent call last)",
            "\u001b[0;32m<ipython-input-1-30107ae7eb16>\u001b[0m in \u001b[0;36m<cell line: 14>\u001b[0;34m()\u001b[0m\n\u001b[1;32m     12\u001b[0m \u001b[0mdir\u001b[0m \u001b[0;34m=\u001b[0m \u001b[0;34m[\u001b[0m\u001b[0;34m'combined_data_1.txt'\u001b[0m\u001b[0;34m,\u001b[0m\u001b[0;34m'combined_data_2.txt'\u001b[0m\u001b[0;34m]\u001b[0m\u001b[0;31m#,'combined_data_3.txt','combined_data_4.txt']\u001b[0m\u001b[0;34m\u001b[0m\u001b[0;34m\u001b[0m\u001b[0m\n\u001b[1;32m     13\u001b[0m \u001b[0;31m# Skip the date\u001b[0m\u001b[0;34m\u001b[0m\u001b[0;34m\u001b[0m\u001b[0m\n\u001b[0;32m---> 14\u001b[0;31m \u001b[0mdf\u001b[0m \u001b[0;34m=\u001b[0m \u001b[0mpd\u001b[0m\u001b[0;34m.\u001b[0m\u001b[0mconcat\u001b[0m\u001b[0;34m(\u001b[0m\u001b[0;34m(\u001b[0m\u001b[0mpd\u001b[0m\u001b[0;34m.\u001b[0m\u001b[0mread_csv\u001b[0m\u001b[0;34m(\u001b[0m\u001b[0mpart\u001b[0m\u001b[0;34m,\u001b[0m \u001b[0mheader\u001b[0m \u001b[0;34m=\u001b[0m \u001b[0;32mNone\u001b[0m\u001b[0;34m,\u001b[0m \u001b[0mnames\u001b[0m \u001b[0;34m=\u001b[0m \u001b[0;34m[\u001b[0m\u001b[0;34m'Cust_Id'\u001b[0m\u001b[0;34m,\u001b[0m \u001b[0;34m'Rating'\u001b[0m\u001b[0;34m]\u001b[0m\u001b[0;34m,\u001b[0m \u001b[0musecols\u001b[0m \u001b[0;34m=\u001b[0m \u001b[0;34m[\u001b[0m\u001b[0;36m0\u001b[0m\u001b[0;34m,\u001b[0m\u001b[0;36m1\u001b[0m\u001b[0;34m]\u001b[0m\u001b[0;34m)\u001b[0m \u001b[0;32mfor\u001b[0m \u001b[0mpart\u001b[0m \u001b[0;32min\u001b[0m \u001b[0mdir\u001b[0m\u001b[0;34m)\u001b[0m\u001b[0;34m,\u001b[0m\u001b[0mignore_index\u001b[0m\u001b[0;34m=\u001b[0m\u001b[0;32mTrue\u001b[0m\u001b[0;34m)\u001b[0m\u001b[0;34m\u001b[0m\u001b[0;34m\u001b[0m\u001b[0m\n\u001b[0m\u001b[1;32m     15\u001b[0m \u001b[0;34m\u001b[0m\u001b[0m\n\u001b[1;32m     16\u001b[0m \u001b[0;31m##### Movie title dataset.\u001b[0m\u001b[0;34m\u001b[0m\u001b[0;34m\u001b[0m\u001b[0m\n",
            "\u001b[0;32m/usr/local/lib/python3.10/dist-packages/pandas/util/_decorators.py\u001b[0m in \u001b[0;36mwrapper\u001b[0;34m(*args, **kwargs)\u001b[0m\n\u001b[1;32m    329\u001b[0m                     \u001b[0mstacklevel\u001b[0m\u001b[0;34m=\u001b[0m\u001b[0mfind_stack_level\u001b[0m\u001b[0;34m(\u001b[0m\u001b[0;34m)\u001b[0m\u001b[0;34m,\u001b[0m\u001b[0;34m\u001b[0m\u001b[0;34m\u001b[0m\u001b[0m\n\u001b[1;32m    330\u001b[0m                 )\n\u001b[0;32m--> 331\u001b[0;31m             \u001b[0;32mreturn\u001b[0m \u001b[0mfunc\u001b[0m\u001b[0;34m(\u001b[0m\u001b[0;34m*\u001b[0m\u001b[0margs\u001b[0m\u001b[0;34m,\u001b[0m \u001b[0;34m**\u001b[0m\u001b[0mkwargs\u001b[0m\u001b[0;34m)\u001b[0m\u001b[0;34m\u001b[0m\u001b[0;34m\u001b[0m\u001b[0m\n\u001b[0m\u001b[1;32m    332\u001b[0m \u001b[0;34m\u001b[0m\u001b[0m\n\u001b[1;32m    333\u001b[0m         \u001b[0;31m# error: \"Callable[[VarArg(Any), KwArg(Any)], Any]\" has no\u001b[0m\u001b[0;34m\u001b[0m\u001b[0;34m\u001b[0m\u001b[0m\n",
            "\u001b[0;32m/usr/local/lib/python3.10/dist-packages/pandas/core/reshape/concat.py\u001b[0m in \u001b[0;36mconcat\u001b[0;34m(objs, axis, join, ignore_index, keys, levels, names, verify_integrity, sort, copy)\u001b[0m\n\u001b[1;32m    366\u001b[0m     \u001b[0;36m1\u001b[0m   \u001b[0;36m3\u001b[0m   \u001b[0;36m4\u001b[0m\u001b[0;34m\u001b[0m\u001b[0;34m\u001b[0m\u001b[0m\n\u001b[1;32m    367\u001b[0m     \"\"\"\n\u001b[0;32m--> 368\u001b[0;31m     op = _Concatenator(\n\u001b[0m\u001b[1;32m    369\u001b[0m         \u001b[0mobjs\u001b[0m\u001b[0;34m,\u001b[0m\u001b[0;34m\u001b[0m\u001b[0;34m\u001b[0m\u001b[0m\n\u001b[1;32m    370\u001b[0m         \u001b[0maxis\u001b[0m\u001b[0;34m=\u001b[0m\u001b[0maxis\u001b[0m\u001b[0;34m,\u001b[0m\u001b[0;34m\u001b[0m\u001b[0;34m\u001b[0m\u001b[0m\n",
            "\u001b[0;32m/usr/local/lib/python3.10/dist-packages/pandas/core/reshape/concat.py\u001b[0m in \u001b[0;36m__init__\u001b[0;34m(self, objs, axis, join, keys, levels, names, ignore_index, verify_integrity, copy, sort)\u001b[0m\n\u001b[1;32m    420\u001b[0m             \u001b[0mobjs\u001b[0m \u001b[0;34m=\u001b[0m \u001b[0;34m[\u001b[0m\u001b[0mobjs\u001b[0m\u001b[0;34m[\u001b[0m\u001b[0mk\u001b[0m\u001b[0;34m]\u001b[0m \u001b[0;32mfor\u001b[0m \u001b[0mk\u001b[0m \u001b[0;32min\u001b[0m \u001b[0mkeys\u001b[0m\u001b[0;34m]\u001b[0m\u001b[0;34m\u001b[0m\u001b[0;34m\u001b[0m\u001b[0m\n\u001b[1;32m    421\u001b[0m         \u001b[0;32melse\u001b[0m\u001b[0;34m:\u001b[0m\u001b[0;34m\u001b[0m\u001b[0;34m\u001b[0m\u001b[0m\n\u001b[0;32m--> 422\u001b[0;31m             \u001b[0mobjs\u001b[0m \u001b[0;34m=\u001b[0m \u001b[0mlist\u001b[0m\u001b[0;34m(\u001b[0m\u001b[0mobjs\u001b[0m\u001b[0;34m)\u001b[0m\u001b[0;34m\u001b[0m\u001b[0;34m\u001b[0m\u001b[0m\n\u001b[0m\u001b[1;32m    423\u001b[0m \u001b[0;34m\u001b[0m\u001b[0m\n\u001b[1;32m    424\u001b[0m         \u001b[0;32mif\u001b[0m \u001b[0mlen\u001b[0m\u001b[0;34m(\u001b[0m\u001b[0mobjs\u001b[0m\u001b[0;34m)\u001b[0m \u001b[0;34m==\u001b[0m \u001b[0;36m0\u001b[0m\u001b[0;34m:\u001b[0m\u001b[0;34m\u001b[0m\u001b[0;34m\u001b[0m\u001b[0m\n",
            "\u001b[0;32m<ipython-input-1-30107ae7eb16>\u001b[0m in \u001b[0;36m<genexpr>\u001b[0;34m(.0)\u001b[0m\n\u001b[1;32m     12\u001b[0m \u001b[0mdir\u001b[0m \u001b[0;34m=\u001b[0m \u001b[0;34m[\u001b[0m\u001b[0;34m'combined_data_1.txt'\u001b[0m\u001b[0;34m,\u001b[0m\u001b[0;34m'combined_data_2.txt'\u001b[0m\u001b[0;34m]\u001b[0m\u001b[0;31m#,'combined_data_3.txt','combined_data_4.txt']\u001b[0m\u001b[0;34m\u001b[0m\u001b[0;34m\u001b[0m\u001b[0m\n\u001b[1;32m     13\u001b[0m \u001b[0;31m# Skip the date\u001b[0m\u001b[0;34m\u001b[0m\u001b[0;34m\u001b[0m\u001b[0m\n\u001b[0;32m---> 14\u001b[0;31m \u001b[0mdf\u001b[0m \u001b[0;34m=\u001b[0m \u001b[0mpd\u001b[0m\u001b[0;34m.\u001b[0m\u001b[0mconcat\u001b[0m\u001b[0;34m(\u001b[0m\u001b[0;34m(\u001b[0m\u001b[0mpd\u001b[0m\u001b[0;34m.\u001b[0m\u001b[0mread_csv\u001b[0m\u001b[0;34m(\u001b[0m\u001b[0mpart\u001b[0m\u001b[0;34m,\u001b[0m \u001b[0mheader\u001b[0m \u001b[0;34m=\u001b[0m \u001b[0;32mNone\u001b[0m\u001b[0;34m,\u001b[0m \u001b[0mnames\u001b[0m \u001b[0;34m=\u001b[0m \u001b[0;34m[\u001b[0m\u001b[0;34m'Cust_Id'\u001b[0m\u001b[0;34m,\u001b[0m \u001b[0;34m'Rating'\u001b[0m\u001b[0;34m]\u001b[0m\u001b[0;34m,\u001b[0m \u001b[0musecols\u001b[0m \u001b[0;34m=\u001b[0m \u001b[0;34m[\u001b[0m\u001b[0;36m0\u001b[0m\u001b[0;34m,\u001b[0m\u001b[0;36m1\u001b[0m\u001b[0;34m]\u001b[0m\u001b[0;34m)\u001b[0m \u001b[0;32mfor\u001b[0m \u001b[0mpart\u001b[0m \u001b[0;32min\u001b[0m \u001b[0mdir\u001b[0m\u001b[0;34m)\u001b[0m\u001b[0;34m,\u001b[0m\u001b[0mignore_index\u001b[0m\u001b[0;34m=\u001b[0m\u001b[0;32mTrue\u001b[0m\u001b[0;34m)\u001b[0m\u001b[0;34m\u001b[0m\u001b[0;34m\u001b[0m\u001b[0m\n\u001b[0m\u001b[1;32m     15\u001b[0m \u001b[0;34m\u001b[0m\u001b[0m\n\u001b[1;32m     16\u001b[0m \u001b[0;31m##### Movie title dataset.\u001b[0m\u001b[0;34m\u001b[0m\u001b[0;34m\u001b[0m\u001b[0m\n",
            "\u001b[0;32m/usr/local/lib/python3.10/dist-packages/pandas/util/_decorators.py\u001b[0m in \u001b[0;36mwrapper\u001b[0;34m(*args, **kwargs)\u001b[0m\n\u001b[1;32m    209\u001b[0m                 \u001b[0;32melse\u001b[0m\u001b[0;34m:\u001b[0m\u001b[0;34m\u001b[0m\u001b[0;34m\u001b[0m\u001b[0m\n\u001b[1;32m    210\u001b[0m                     \u001b[0mkwargs\u001b[0m\u001b[0;34m[\u001b[0m\u001b[0mnew_arg_name\u001b[0m\u001b[0;34m]\u001b[0m \u001b[0;34m=\u001b[0m \u001b[0mnew_arg_value\u001b[0m\u001b[0;34m\u001b[0m\u001b[0;34m\u001b[0m\u001b[0m\n\u001b[0;32m--> 211\u001b[0;31m             \u001b[0;32mreturn\u001b[0m \u001b[0mfunc\u001b[0m\u001b[0;34m(\u001b[0m\u001b[0;34m*\u001b[0m\u001b[0margs\u001b[0m\u001b[0;34m,\u001b[0m \u001b[0;34m**\u001b[0m\u001b[0mkwargs\u001b[0m\u001b[0;34m)\u001b[0m\u001b[0;34m\u001b[0m\u001b[0;34m\u001b[0m\u001b[0m\n\u001b[0m\u001b[1;32m    212\u001b[0m \u001b[0;34m\u001b[0m\u001b[0m\n\u001b[1;32m    213\u001b[0m         \u001b[0;32mreturn\u001b[0m \u001b[0mcast\u001b[0m\u001b[0;34m(\u001b[0m\u001b[0mF\u001b[0m\u001b[0;34m,\u001b[0m \u001b[0mwrapper\u001b[0m\u001b[0;34m)\u001b[0m\u001b[0;34m\u001b[0m\u001b[0;34m\u001b[0m\u001b[0m\n",
            "\u001b[0;32m/usr/local/lib/python3.10/dist-packages/pandas/util/_decorators.py\u001b[0m in \u001b[0;36mwrapper\u001b[0;34m(*args, **kwargs)\u001b[0m\n\u001b[1;32m    329\u001b[0m                     \u001b[0mstacklevel\u001b[0m\u001b[0;34m=\u001b[0m\u001b[0mfind_stack_level\u001b[0m\u001b[0;34m(\u001b[0m\u001b[0;34m)\u001b[0m\u001b[0;34m,\u001b[0m\u001b[0;34m\u001b[0m\u001b[0;34m\u001b[0m\u001b[0m\n\u001b[1;32m    330\u001b[0m                 )\n\u001b[0;32m--> 331\u001b[0;31m             \u001b[0;32mreturn\u001b[0m \u001b[0mfunc\u001b[0m\u001b[0;34m(\u001b[0m\u001b[0;34m*\u001b[0m\u001b[0margs\u001b[0m\u001b[0;34m,\u001b[0m \u001b[0;34m**\u001b[0m\u001b[0mkwargs\u001b[0m\u001b[0;34m)\u001b[0m\u001b[0;34m\u001b[0m\u001b[0;34m\u001b[0m\u001b[0m\n\u001b[0m\u001b[1;32m    332\u001b[0m \u001b[0;34m\u001b[0m\u001b[0m\n\u001b[1;32m    333\u001b[0m         \u001b[0;31m# error: \"Callable[[VarArg(Any), KwArg(Any)], Any]\" has no\u001b[0m\u001b[0;34m\u001b[0m\u001b[0;34m\u001b[0m\u001b[0m\n",
            "\u001b[0;32m/usr/local/lib/python3.10/dist-packages/pandas/io/parsers/readers.py\u001b[0m in \u001b[0;36mread_csv\u001b[0;34m(filepath_or_buffer, sep, delimiter, header, names, index_col, usecols, squeeze, prefix, mangle_dupe_cols, dtype, engine, converters, true_values, false_values, skipinitialspace, skiprows, skipfooter, nrows, na_values, keep_default_na, na_filter, verbose, skip_blank_lines, parse_dates, infer_datetime_format, keep_date_col, date_parser, dayfirst, cache_dates, iterator, chunksize, compression, thousands, decimal, lineterminator, quotechar, quoting, doublequote, escapechar, comment, encoding, encoding_errors, dialect, error_bad_lines, warn_bad_lines, on_bad_lines, delim_whitespace, low_memory, memory_map, float_precision, storage_options)\u001b[0m\n\u001b[1;32m    948\u001b[0m     \u001b[0mkwds\u001b[0m\u001b[0;34m.\u001b[0m\u001b[0mupdate\u001b[0m\u001b[0;34m(\u001b[0m\u001b[0mkwds_defaults\u001b[0m\u001b[0;34m)\u001b[0m\u001b[0;34m\u001b[0m\u001b[0;34m\u001b[0m\u001b[0m\n\u001b[1;32m    949\u001b[0m \u001b[0;34m\u001b[0m\u001b[0m\n\u001b[0;32m--> 950\u001b[0;31m     \u001b[0;32mreturn\u001b[0m \u001b[0m_read\u001b[0m\u001b[0;34m(\u001b[0m\u001b[0mfilepath_or_buffer\u001b[0m\u001b[0;34m,\u001b[0m \u001b[0mkwds\u001b[0m\u001b[0;34m)\u001b[0m\u001b[0;34m\u001b[0m\u001b[0;34m\u001b[0m\u001b[0m\n\u001b[0m\u001b[1;32m    951\u001b[0m \u001b[0;34m\u001b[0m\u001b[0m\n\u001b[1;32m    952\u001b[0m \u001b[0;34m\u001b[0m\u001b[0m\n",
            "\u001b[0;32m/usr/local/lib/python3.10/dist-packages/pandas/io/parsers/readers.py\u001b[0m in \u001b[0;36m_read\u001b[0;34m(filepath_or_buffer, kwds)\u001b[0m\n\u001b[1;32m    603\u001b[0m \u001b[0;34m\u001b[0m\u001b[0m\n\u001b[1;32m    604\u001b[0m     \u001b[0;31m# Create the parser.\u001b[0m\u001b[0;34m\u001b[0m\u001b[0;34m\u001b[0m\u001b[0m\n\u001b[0;32m--> 605\u001b[0;31m     \u001b[0mparser\u001b[0m \u001b[0;34m=\u001b[0m \u001b[0mTextFileReader\u001b[0m\u001b[0;34m(\u001b[0m\u001b[0mfilepath_or_buffer\u001b[0m\u001b[0;34m,\u001b[0m \u001b[0;34m**\u001b[0m\u001b[0mkwds\u001b[0m\u001b[0;34m)\u001b[0m\u001b[0;34m\u001b[0m\u001b[0;34m\u001b[0m\u001b[0m\n\u001b[0m\u001b[1;32m    606\u001b[0m \u001b[0;34m\u001b[0m\u001b[0m\n\u001b[1;32m    607\u001b[0m     \u001b[0;32mif\u001b[0m \u001b[0mchunksize\u001b[0m \u001b[0;32mor\u001b[0m \u001b[0miterator\u001b[0m\u001b[0;34m:\u001b[0m\u001b[0;34m\u001b[0m\u001b[0;34m\u001b[0m\u001b[0m\n",
            "\u001b[0;32m/usr/local/lib/python3.10/dist-packages/pandas/io/parsers/readers.py\u001b[0m in \u001b[0;36m__init__\u001b[0;34m(self, f, engine, **kwds)\u001b[0m\n\u001b[1;32m   1440\u001b[0m \u001b[0;34m\u001b[0m\u001b[0m\n\u001b[1;32m   1441\u001b[0m         \u001b[0mself\u001b[0m\u001b[0;34m.\u001b[0m\u001b[0mhandles\u001b[0m\u001b[0;34m:\u001b[0m \u001b[0mIOHandles\u001b[0m \u001b[0;34m|\u001b[0m \u001b[0;32mNone\u001b[0m \u001b[0;34m=\u001b[0m \u001b[0;32mNone\u001b[0m\u001b[0;34m\u001b[0m\u001b[0;34m\u001b[0m\u001b[0m\n\u001b[0;32m-> 1442\u001b[0;31m         \u001b[0mself\u001b[0m\u001b[0;34m.\u001b[0m\u001b[0m_engine\u001b[0m \u001b[0;34m=\u001b[0m \u001b[0mself\u001b[0m\u001b[0;34m.\u001b[0m\u001b[0m_make_engine\u001b[0m\u001b[0;34m(\u001b[0m\u001b[0mf\u001b[0m\u001b[0;34m,\u001b[0m \u001b[0mself\u001b[0m\u001b[0;34m.\u001b[0m\u001b[0mengine\u001b[0m\u001b[0;34m)\u001b[0m\u001b[0;34m\u001b[0m\u001b[0;34m\u001b[0m\u001b[0m\n\u001b[0m\u001b[1;32m   1443\u001b[0m \u001b[0;34m\u001b[0m\u001b[0m\n\u001b[1;32m   1444\u001b[0m     \u001b[0;32mdef\u001b[0m \u001b[0mclose\u001b[0m\u001b[0;34m(\u001b[0m\u001b[0mself\u001b[0m\u001b[0;34m)\u001b[0m \u001b[0;34m->\u001b[0m \u001b[0;32mNone\u001b[0m\u001b[0;34m:\u001b[0m\u001b[0;34m\u001b[0m\u001b[0;34m\u001b[0m\u001b[0m\n",
            "\u001b[0;32m/usr/local/lib/python3.10/dist-packages/pandas/io/parsers/readers.py\u001b[0m in \u001b[0;36m_make_engine\u001b[0;34m(self, f, engine)\u001b[0m\n\u001b[1;32m   1733\u001b[0m                 \u001b[0;32mif\u001b[0m \u001b[0;34m\"b\"\u001b[0m \u001b[0;32mnot\u001b[0m \u001b[0;32min\u001b[0m \u001b[0mmode\u001b[0m\u001b[0;34m:\u001b[0m\u001b[0;34m\u001b[0m\u001b[0;34m\u001b[0m\u001b[0m\n\u001b[1;32m   1734\u001b[0m                     \u001b[0mmode\u001b[0m \u001b[0;34m+=\u001b[0m \u001b[0;34m\"b\"\u001b[0m\u001b[0;34m\u001b[0m\u001b[0;34m\u001b[0m\u001b[0m\n\u001b[0;32m-> 1735\u001b[0;31m             self.handles = get_handle(\n\u001b[0m\u001b[1;32m   1736\u001b[0m                 \u001b[0mf\u001b[0m\u001b[0;34m,\u001b[0m\u001b[0;34m\u001b[0m\u001b[0;34m\u001b[0m\u001b[0m\n\u001b[1;32m   1737\u001b[0m                 \u001b[0mmode\u001b[0m\u001b[0;34m,\u001b[0m\u001b[0;34m\u001b[0m\u001b[0;34m\u001b[0m\u001b[0m\n",
            "\u001b[0;32m/usr/local/lib/python3.10/dist-packages/pandas/io/common.py\u001b[0m in \u001b[0;36mget_handle\u001b[0;34m(path_or_buf, mode, encoding, compression, memory_map, is_text, errors, storage_options)\u001b[0m\n\u001b[1;32m    854\u001b[0m         \u001b[0;32mif\u001b[0m \u001b[0mioargs\u001b[0m\u001b[0;34m.\u001b[0m\u001b[0mencoding\u001b[0m \u001b[0;32mand\u001b[0m \u001b[0;34m\"b\"\u001b[0m \u001b[0;32mnot\u001b[0m \u001b[0;32min\u001b[0m \u001b[0mioargs\u001b[0m\u001b[0;34m.\u001b[0m\u001b[0mmode\u001b[0m\u001b[0;34m:\u001b[0m\u001b[0;34m\u001b[0m\u001b[0;34m\u001b[0m\u001b[0m\n\u001b[1;32m    855\u001b[0m             \u001b[0;31m# Encoding\u001b[0m\u001b[0;34m\u001b[0m\u001b[0;34m\u001b[0m\u001b[0m\n\u001b[0;32m--> 856\u001b[0;31m             handle = open(\n\u001b[0m\u001b[1;32m    857\u001b[0m                 \u001b[0mhandle\u001b[0m\u001b[0;34m,\u001b[0m\u001b[0;34m\u001b[0m\u001b[0;34m\u001b[0m\u001b[0m\n\u001b[1;32m    858\u001b[0m                 \u001b[0mioargs\u001b[0m\u001b[0;34m.\u001b[0m\u001b[0mmode\u001b[0m\u001b[0;34m,\u001b[0m\u001b[0;34m\u001b[0m\u001b[0;34m\u001b[0m\u001b[0m\n",
            "\u001b[0;31mFileNotFoundError\u001b[0m: [Errno 2] No such file or directory: 'combined_data_1.txt'"
          ]
        }
      ],
      "source": [
        "# Import necessary libraries\n",
        "import matplotlib.pyplot as plt\n",
        "import seaborn as sns\n",
        "import pandas as pd\n",
        "import numpy as np\n",
        "import math\n",
        "import re\n",
        "\n",
        "# Dataset obtained from https://www.kaggle.com/datasets/netflix-inc/netflix-prize-data/download\n",
        "\n",
        "##### Ratings dataset.\n",
        "dir = ['combined_data_1.txt','combined_data_2.txt']#,'combined_data_3.txt','combined_data_4.txt']\n",
        "# Skip the date\n",
        "df = pd.concat((pd.read_csv(part, header = None, names = ['Cust_Id', 'Rating'], usecols = [0,1]) for part in dir),ignore_index=True)\n",
        "\n",
        "##### Movie title dataset.\n",
        "# Read the csv file with movie id and names along with year\n",
        "df_title = pd.read_csv('movie_titles.csv', encoding = \"ISO-8859-1\", header = None, names = ['Movie_Id', 'Year', 'Name'])\n",
        "# set index as movie id\n",
        "df_title.set_index('Movie_Id', inplace = True)"
      ]
    },
    {
      "cell_type": "code",
      "source": [
        "df_title.head()"
      ],
      "metadata": {
        "id": "n_0RaIF1Qd2j"
      },
      "execution_count": null,
      "outputs": []
    },
    {
      "cell_type": "code",
      "source": [
        "df.head()"
      ],
      "metadata": {
        "id": "6I2HpaaGldsB"
      },
      "execution_count": null,
      "outputs": []
    },
    {
      "cell_type": "markdown",
      "source": [
        "## **Analyze the Datasets**\n"
      ],
      "metadata": {
        "id": "zXXA6veSdtP7"
      }
    },
    {
      "cell_type": "markdown",
      "source": [
        "### Plot graph showing total number of movies, customers, and ranking."
      ],
      "metadata": {
        "id": "-WOh3gMIIMp5"
      }
    },
    {
      "cell_type": "code",
      "source": [
        "# Set sns theme.\n",
        "sns.set_style(\"whitegrid\")\n",
        "\n",
        "# Find the count of each rating by using group by and aggregating with count.\n",
        "group_by_ratings = df.groupby('Rating')['Rating'].agg(['count'])\n",
        "\n",
        "# Since the dataset is not in standard format, we have to extract the movie and customer IDs separately.\n",
        "\n",
        "# Movies have 'Null' rating in the dataset. So sum them.\n",
        "movie_counter = df.isnull().sum()[1]\n",
        "\n",
        "# Customers have ratings provided, but can rate multiple movies.\n",
        "# So we need to find unique IDs.\n",
        "customer_counter = df['Cust_Id'].nunique() - movie_counter\n",
        "\n",
        "# Number of ratings can be obtained by removing the movie/null ratings rows.\n",
        "ratings_counter = df['Cust_Id'].count() - movie_counter\n",
        "\n",
        "# We can now plot the data to see how does the number of ratings span.\n",
        "# We create a bar graph.\n",
        "graph = group_by_ratings.plot(kind = 'barh', legend = False, figsize = (15,10))\n",
        "\n",
        "# Chart description\n",
        "plt.title('Dataset summary of {:,} Movies by {:,} customers in {:,} ratings'.format(\n",
        "    movie_counter, customer_counter, ratings_counter), fontsize=20)\n",
        "plt.xlabel('Number of Ratings in 10 Million.')\n",
        "\n",
        "# Print how much of that rating do we have in our dataset.\n",
        "for i in range(1,6):\n",
        "  graph.text(group_by_ratings.iloc[i-1][0]/4, i-1, 'Rating {}: {:.0f}%'.format(\n",
        "      i, group_by_ratings.iloc[i-1][0]*100 /group_by_ratings.sum()[0]), color = 'white', weight = 'bold')"
      ],
      "metadata": {
        "colab": {
          "base_uri": "https://localhost:8080/",
          "height": 627
        },
        "id": "4U44K6YWFKHj",
        "outputId": "b9aed24a-8deb-4942-a52c-afc2537a5949"
      },
      "execution_count": null,
      "outputs": [
        {
          "output_type": "display_data",
          "data": {
            "text/plain": [
              "<Figure size 1080x720 with 1 Axes>"
            ],
            "image/png": "[encoded data removed]"
          },
          "metadata": {}
        }
      ]
    },
    {
      "cell_type": "markdown",
      "source": [
        "## **Prepare the Dataset**"
      ],
      "metadata": {
        "id": "v9QJTyDMG9ZR"
      }
    },
    {
      "cell_type": "markdown",
      "source": [
        "### Create a separate column for movie ids."
      ],
      "metadata": {
        "id": "hNRRWSKsIC7k"
      }
    },
    {
      "cell_type": "code",
      "source": [
        "# Now let's try to clean the dataset for analysis.\n",
        "# We know that the movie ids are also mixed with the customer ids.\n",
        "# However, they have no ratings in the ratings column.\n",
        "# So we can extract the movie titles by finding the null ratings.\n",
        "movies_only_df = pd.DataFrame(pd.isnull(df.Rating)) # Creates a boolean list for null ratings.\n",
        "movies_only_df = movies_only_df[movies_only_df['Rating'] == True] # Use that list to get only the movie titles.\n",
        "movies_only_df = movies_only_df.reset_index()\n",
        "\n",
        "# Init parameters for running our loop to create a title column.\n",
        "movie_title_column = []\n",
        "movie_id = 1\n",
        "\n",
        "# We run a loop to calculate the distance between one null index and the next.\n",
        "# Might take over 10 mins to execute due to data size.\n",
        "for i,j in zip(movies_only_df['index'][1:],movies_only_df['index'][:-1]):\n",
        "    # We create a list of the movie ids to the length of this distance.\n",
        "    temp = np.full((1,i-j-1), movie_id)\n",
        "    # We then append this part to our column list.\n",
        "    movie_title_column = np.append(movie_title_column, temp)\n",
        "    # Increase the counter for the next movie.\n",
        "    movie_id += 1\n",
        "\n",
        "# The last null value would have to be accounted for separately since we cannot calculate the distance.\n",
        "# Here, we use the length to subtract from.\n",
        "last_record = np.full((1,len(df) - movies_only_df.iloc[-1, 0] - 1),movie_id)\n",
        "# And we can append it to the column list we created.\n",
        "movie_title_column = np.append(movie_title_column, last_record)"
      ],
      "metadata": {
        "id": "n95U7woKFKsB"
      },
      "execution_count": null,
      "outputs": []
    },
    {
      "cell_type": "markdown",
      "source": [
        "### Exclude rows that have null values in “Rating” column​."
      ],
      "metadata": {
        "id": "Pt8RBUOgHyml"
      }
    },
    {
      "cell_type": "code",
      "source": [
        "# Finally we can remove the garbage rows having null values.\n",
        "df = df[pd.notnull(df['Rating'])]\n",
        "\n",
        "# Append the column and correct the data type.\n",
        "df['Movie_Id'] = movie_title_column.astype(int)\n",
        "df['Cust_Id'] = df['Cust_Id'].astype(int)"
      ],
      "metadata": {
        "id": "1kQIqWIEHoPY"
      },
      "execution_count": null,
      "outputs": []
    },
    {
      "cell_type": "code",
      "source": [
        "# Checking the database at 50mil intervals.\n",
        "print(df.iloc[::5000000, :])"
      ],
      "metadata": {
        "colab": {
          "base_uri": "https://localhost:8080/"
        },
        "id": "V1z5FHZbG_fk",
        "outputId": "65146a19-cbab-4069-d681-b9f5bd0e8d20"
      },
      "execution_count": null,
      "outputs": [
        {
          "output_type": "stream",
          "name": "stdout",
          "text": [
            "          Cust_Id  Rating  Movie_Id\n",
            "1         1488844     3.0         1\n",
            "5000996    501954     2.0       996\n",
            "10001962   404654     5.0      1962\n",
            "15002876   886608     2.0      2876\n",
            "20003825  1193835     2.0      3825\n",
            "25004661  1899206     3.0      4661\n",
            "30005496   154804     4.0      5496\n",
            "35006274  2078749     5.0      6274\n",
            "40007057   450763     5.0      7057\n",
            "45007991   102092     3.0      7991\n",
            "50009023   220298     5.0      9023\n"
          ]
        }
      ]
    },
    {
      "cell_type": "markdown",
      "source": [
        "### Create a dataframe with count and mean of rating for each movie id​."
      ],
      "metadata": {
        "id": "IfMmb7WbHbxZ"
      }
    },
    {
      "cell_type": "code",
      "source": [
        "del movie_title_column"
      ],
      "metadata": {
        "id": "7TEtZJ5tJUL3",
        "outputId": "f9e4b144-825e-4df7-c3cc-aadc7e098d8d",
        "colab": {
          "base_uri": "https://localhost:8080/",
          "height": 179
        }
      },
      "execution_count": null,
      "outputs": [
        {
          "output_type": "error",
          "ename": "NameError",
          "evalue": "ignored",
          "traceback": [
            "\u001b[0;31m---------------------------------------------------------------------------\u001b[0m",
            "\u001b[0;31mNameError\u001b[0m                                 Traceback (most recent call last)",
            "\u001b[0;32m<ipython-input-1-f7a6ea785415>\u001b[0m in \u001b[0;36m<cell line: 1>\u001b[0;34m()\u001b[0m\n\u001b[0;32m----> 1\u001b[0;31m \u001b[0;32mdel\u001b[0m \u001b[0mmovie_title_column\u001b[0m\u001b[0;34m\u001b[0m\u001b[0;34m\u001b[0m\u001b[0m\n\u001b[0m",
            "\u001b[0;31mNameError\u001b[0m: name 'movie_title_column' is not defined"
          ]
        }
      ]
    },
    {
      "cell_type": "code",
      "source": [
        "# Create a list with count and mean to use it for groupby\n",
        "f = ['count','mean']\n",
        "# Group movie ids by their count and mean of ratings\n",
        "df_movie_summary = df.groupby('Movie_Id')['Rating'].agg(f)"
      ],
      "metadata": {
        "id": "qtXgYQVfHI1V"
      },
      "execution_count": null,
      "outputs": []
    },
    {
      "cell_type": "code",
      "source": [
        "# Convert the index (movie ids) to integer type\n",
        "df_movie_summary.index = df_movie_summary.index.map(int)\n",
        "# print index of df_movie_summary\n",
        "df_movie_summary"
      ],
      "metadata": {
        "id": "7EGFASdDHsxA"
      },
      "execution_count": null,
      "outputs": []
    },
    {
      "cell_type": "markdown",
      "source": [
        "### Reduce Size of Dataset​ using movie Ids."
      ],
      "metadata": {
        "id": "ua6gvGc7KuPB"
      }
    },
    {
      "cell_type": "markdown",
      "source": [
        "#### Calculate benchmark values for movie ids based on ranking​."
      ],
      "metadata": {
        "id": "w6OfhVXeK3wn"
      }
    },
    {
      "cell_type": "code",
      "source": [
        "# Get movie benchmark with value of quantile at 0.7\n",
        "movie_benchmark = round(df_movie_summary['count'].quantile(0.7),0)"
      ],
      "metadata": {
        "id": "RiyEozvQH-j6"
      },
      "execution_count": null,
      "outputs": []
    },
    {
      "cell_type": "code",
      "source": [
        "# Print out the lowest rating\n",
        "print('Movie with minimum number of review to filter: {}'.format(movie_benchmark))"
      ],
      "metadata": {
        "id": "aSl9Cq3GLN6_",
        "colab": {
          "base_uri": "https://localhost:8080/"
        },
        "outputId": "79860d67-151f-4e13-f169-c05d72473fd8"
      },
      "execution_count": null,
      "outputs": [
        {
          "output_type": "stream",
          "name": "stdout",
          "text": [
            "Movie with minimum number of review to filter: 1932.0\n"
          ]
        }
      ]
    },
    {
      "cell_type": "markdown",
      "source": [
        "#### Remove rows that have values less than benchmark​."
      ],
      "metadata": {
        "id": "PcGFqlQxLEDE"
      }
    },
    {
      "cell_type": "code",
      "source": [
        "# Only get index of those movies that have count less than benchmark\n",
        "drop_movie_list = df_movie_summary[df_movie_summary['count'] < movie_benchmark].index\n",
        "# Print a sample.\n",
        "drop_movie_list[:10]"
      ],
      "metadata": {
        "id": "XsCodozLIg_O",
        "colab": {
          "base_uri": "https://localhost:8080/"
        },
        "outputId": "9a907518-f7de-435a-8741-2b8616d76a2c"
      },
      "execution_count": null,
      "outputs": [
        {
          "output_type": "execute_result",
          "data": {
            "text/plain": [
              "Int64Index([1, 2, 4, 5, 6, 7, 9, 10, 11, 12], dtype='int64', name='Movie_Id')"
            ]
          },
          "metadata": {},
          "execution_count": 13
        }
      ]
    },
    {
      "cell_type": "markdown",
      "source": [
        "#### Create a dataframe with count and mean of rating for each customer id​."
      ],
      "metadata": {
        "id": "Jxfpqj6uMoOV"
      }
    },
    {
      "cell_type": "code",
      "source": [
        "# Group customer ids by their count and mean of ratings\n",
        "df_cust_summary = df.groupby('Cust_Id')['Rating'].agg(f)"
      ],
      "metadata": {
        "id": "BY2Uk593JF9l"
      },
      "execution_count": null,
      "outputs": []
    },
    {
      "cell_type": "markdown",
      "source": [
        "### Reduce Size of Dataset​ using customer ids."
      ],
      "metadata": {
        "id": "N8cPMPsWM4go"
      }
    },
    {
      "cell_type": "markdown",
      "source": [
        "#### Calculate benchmark values for customer ids based on ranking​."
      ],
      "metadata": {
        "id": "NocSlWGjNUiT"
      }
    },
    {
      "cell_type": "code",
      "source": [
        "# Convert index (customer Ids ) to int\n",
        "df_cust_summary.index = df_cust_summary.index.map(int)\n",
        "# Get customer benchmark with value of quantile at 0.7\n",
        "cust_benchmark = round(df_cust_summary['count'].quantile(0.7),0)\n",
        "\n",
        "# Print out the lowest rating\n",
        "print('Customer with minimum number of review to filter: {}'.format(cust_benchmark))"
      ],
      "metadata": {
        "id": "Min5wq7fJduJ",
        "colab": {
          "base_uri": "https://localhost:8080/"
        },
        "outputId": "2177660b-315e-476d-bf19-169125b48a93"
      },
      "execution_count": null,
      "outputs": [
        {
          "output_type": "stream",
          "name": "stdout",
          "text": [
            "Customer with minimum number of review to filter: 108.0\n"
          ]
        }
      ]
    },
    {
      "cell_type": "markdown",
      "source": [
        "#### Remove rows that have values less than benchmark​."
      ],
      "metadata": {
        "id": "yeUHQJbXNmXl"
      }
    },
    {
      "cell_type": "code",
      "source": [
        "# Only get index of those customers that have count below benchmark\n",
        "drop_cust_list = df_cust_summary[df_cust_summary['count'] < cust_benchmark].index\n",
        "# Print a sample.\n",
        "drop_cust_list[:10]"
      ],
      "metadata": {
        "colab": {
          "base_uri": "https://localhost:8080/"
        },
        "id": "_e8W-pfKNd-M",
        "outputId": "2c433e7d-e5cf-4c5c-bd81-c7845489e9d4"
      },
      "execution_count": null,
      "outputs": [
        {
          "output_type": "execute_result",
          "data": {
            "text/plain": [
              "Int64Index([8, 25, 33, 42, 59, 83, 87, 94, 126, 130], dtype='int64', name='Cust_Id')"
            ]
          },
          "metadata": {},
          "execution_count": 16
        }
      ]
    },
    {
      "cell_type": "code",
      "source": [],
      "metadata": {
        "id": "Dun32H3ZJ35a"
      },
      "execution_count": null,
      "outputs": []
    },
    {
      "cell_type": "code",
      "source": [
        "# Dataframe shape before filtering.\n",
        "print('Original Shape: {}'.format(df.shape))"
      ],
      "metadata": {
        "colab": {
          "base_uri": "https://localhost:8080/"
        },
        "id": "rAnqRIsgJg62",
        "outputId": "41c308db-a827-4f58-e550-59f939e0bcfd"
      },
      "execution_count": null,
      "outputs": [
        {
          "output_type": "stream",
          "name": "stdout",
          "text": [
            "Original Shape: (51031355, 3)\n"
          ]
        }
      ]
    },
    {
      "cell_type": "code",
      "source": [
        "# Exclude rows from original dataframe for movie ids  that have values are below benchmark\n",
        "df = df[~df['Movie_Id'].isin(drop_movie_list)]"
      ],
      "metadata": {
        "id": "gYQ019MPJrsD"
      },
      "execution_count": null,
      "outputs": []
    },
    {
      "cell_type": "code",
      "source": [
        "# Exclude rows from original dataframe for customer ids that have values are below benchmark\n",
        "df = df[~df['Cust_Id'].isin(drop_cust_list)]"
      ],
      "metadata": {
        "id": "ig6Ze0qdKWJN"
      },
      "execution_count": null,
      "outputs": []
    },
    {
      "cell_type": "code",
      "source": [
        "# Dataframe shape after filtering.\n",
        "print('After Trim Shape: {}'.format(df.shape))"
      ],
      "metadata": {
        "colab": {
          "base_uri": "https://localhost:8080/"
        },
        "id": "mJfZCHAxNsUa",
        "outputId": "325953d2-30e6-4731-d09b-8f717fd90a4d"
      },
      "execution_count": null,
      "outputs": [
        {
          "output_type": "stream",
          "name": "stdout",
          "text": [
            "After Trim Shape: (36695974, 3)\n"
          ]
        }
      ]
    },
    {
      "cell_type": "code",
      "source": [
        "# Display the dataframe with a skip value of 5mil.\n",
        "print('-Data Examples-')\n",
        "print(df.iloc[::5000000, :])"
      ],
      "metadata": {
        "colab": {
          "base_uri": "https://localhost:8080/"
        },
        "id": "iPIbDS7sJuc6",
        "outputId": "43dd398c-df98-4bf0-ba02-bf8e47db9f27"
      },
      "execution_count": null,
      "outputs": [
        {
          "output_type": "stream",
          "name": "stdout",
          "text": [
            "-Data Examples-\n",
            "          Cust_Id  Rating  Movie_Id\n",
            "696        712664     5.0         3\n",
            "6967414   1772050     5.0      1401\n",
            "13917453   439970     4.0      2662\n",
            "20846898  1179317     5.0      3925\n",
            "27821028  2556129     4.0      5137\n",
            "34868052  1637761     4.0      6247\n",
            "41920351  1566168     3.0      7399\n",
            "48773721     6173     3.0      8782\n"
          ]
        }
      ]
    },
    {
      "cell_type": "markdown",
      "source": [
        "## **Build function for recommendation system​**"
      ],
      "metadata": {
        "id": "2u52BeS6OJ4a"
      }
    },
    {
      "cell_type": "markdown",
      "source": [
        "### Create pivot with ”Ranking” as values, “Movie_Id” as column and “Cust_id” as rows. ​"
      ],
      "metadata": {
        "id": "Cqeczb9CPrnX"
      }
    },
    {
      "cell_type": "code",
      "source": [
        "# Create a pivot to see ratings as values, customer id as rows and movie ids as columns\n",
        "df_p = pd.pivot_table(df,values='Rating',index='Cust_Id',columns='Movie_Id')\n",
        "# print the pivot\n",
        "print(df_p)"
      ],
      "metadata": {
        "id": "hCdIUxKVKQfn"
      },
      "execution_count": null,
      "outputs": []
    },
    {
      "cell_type": "markdown",
      "source": [
        "### Calculate PearsonR correlation coefficient values depending on the input of movie title names.​"
      ],
      "metadata": {
        "id": "cNVxSSHlQual"
      }
    },
    {
      "cell_type": "code",
      "source": [
        "#=======================================================Build function for Recommedation System===============================================================#\n",
        "#Calculating the correlation of movie title selected to the rest of the movie titles in the dataframe\n",
        "def recommend(movie_title, min_count):\n",
        "    # print movie title name that is passed to this function\n",
        "    print(\"For movie ({})\".format(movie_title))\n",
        "    # print top 10 movies recommended based on movie title passed\n",
        "    print(\"- Top 10 movies recommended based on Pearsons'R correlation - \")\n",
        "    # get index (movie id) of movie name from df_title dataframe\n",
        "    i = int(df_title.index[df_title['Name'] == movie_title][0])\n",
        "    # select the column having the target movie id and save it in target varible\n",
        "    target = df_p[i]\n",
        "    # find correlation with other movie titles using corrwith() and using PearsonR technique\n",
        "    similar_to_target = df_p.corrwith(target,method='pearson')\n",
        "    # Convert similar_to_target to a Dataframe with column name as \"PearsonR\"\n",
        "    corr_target = pd.DataFrame(similar_to_target, columns = ['PearsonR'])\n",
        "    # Drop columns that have values as NA from newly created Dataframe (corr_target)\n",
        "    corr_target.dropna(inplace = True)\n",
        "    # Sort values in descending order in Dataframe based on \"PearsonR\" columns\n",
        "    corr_target = corr_target.sort_values('PearsonR', ascending = False)\n",
        "\n",
        "    # Convert index to int\n",
        "    corr_target.index = corr_target.index.map(int)\n",
        "\n",
        "    # To corr_target Dataframe join other columns from Dataframe based on Movie_ids\n",
        "    corr_target = corr_target.join(df_title).join(df_movie_summary)[['PearsonR', 'Name', 'count', 'mean']]\n",
        "\n",
        "    # Print first 10 rows having values greater than min_count provided\n",
        "    print(corr_target[corr_target['count']>min_count][:10].to_string(index=False))\n",
        "\n"
      ],
      "metadata": {
        "id": "rYKzNKaPK866"
      },
      "execution_count": null,
      "outputs": []
    },
    {
      "cell_type": "markdown",
      "source": [
        "## Demonstration"
      ],
      "metadata": {
        "id": "qs--ya1TQz65"
      }
    },
    {
      "cell_type": "code",
      "source": [
        "# 1st Recommendation\n",
        "# Call recommend function with movie title name and least no. of reviews needed.\n",
        "recommend(\"I Love Lucy: Season 2\", 0)"
      ],
      "metadata": {
        "id": "G4Sm9XtXbztj"
      },
      "execution_count": null,
      "outputs": []
    },
    {
      "cell_type": "code",
      "source": [
        "# 2nd Recommendation\n",
        "# Call recommend function with movie title name and least no. of reviews needed.\n",
        "recommend(\"Regular Guys\", 0)"
      ],
      "metadata": {
        "id": "Mlp6hZlhb5X_"
      },
      "execution_count": null,
      "outputs": []
    },
    {
      "cell_type": "markdown",
      "source": [
        "## PearsonR manual calculation"
      ],
      "metadata": {
        "id": "1AV58gghQ380"
      }
    },
    {
      "cell_type": "code",
      "source": [
        "# Manually calculating Pearson's coefficient using formula and verifying the results using corrwith() function\n",
        "# Get movie ids for Hercules and Paheli movies.\n",
        "Hercules_movie_id=int(df_title.index[df_title['Name'] == \"Hercules\"][0])\n",
        "Paheli_movie_id=int(df_title.index[df_title['Name'] == \"Paheli\"][0])\n"
      ],
      "metadata": {
        "id": "Ob2uTcj4V4Jj"
      },
      "execution_count": null,
      "outputs": []
    },
    {
      "cell_type": "code",
      "source": [
        "# Find the correlation between these two movies\n",
        "# Convert series to pandas to use corrwith() function\n",
        "Hercules = df_p[Hercules_movie_id].to_frame(name=\"Rating\").fillna(0)\n",
        "Paheli = df_p[Paheli_movie_id].to_frame(name=\"Rating\").fillna(0)\n",
        "r1= Hercules.corrwith(Paheli,method='pearson')\n",
        "# Print out the result\n",
        "print(\"Pearson's correlation coefficient when we use correlation function : \",round(r1[0],2))\n"
      ],
      "metadata": {
        "id": "uStByz3tWTzX"
      },
      "execution_count": null,
      "outputs": []
    },
    {
      "cell_type": "markdown",
      "source": [
        "$r =\\frac{\\sum\\left(x_{i}-\\bar{x}\\right)\\left(y_{i}-\\bar{y}\\right)}{\\sqrt{\\sum\\left(x_{i}-\\bar{x}\\right)^{2} \\sum\\left(y_{i}-\\bar{y}\\right)^{2}}}$"
      ],
      "metadata": {
        "id": "OBasdPtkvKoQ"
      }
    },
    {
      "cell_type": "code",
      "source": [
        "# Consider Hercules as X and Paheli as Y\n",
        "# Here Hercules_mean is X_mean and Paheli_mean is Y_mean\n",
        "Hercules_mean=Hercules.mean()\n",
        "Paheli_mean=Paheli.mean()\n",
        "\n",
        "# Here we calculate (X-X_mean) and (Y-Y_mean)\n",
        "Hercules_subtract_mean=Hercules-Hercules_mean\n",
        "Paheli_subtract_mean=Paheli-Paheli_mean\n",
        "\n",
        "# Calculate the sum of the following operations :\n",
        "# 1. Compute_1 = ((X-X_mean)* (Y-Y_mean))\n",
        "# 2. Compute_2 = (X-X_mean)^2\n",
        "# 3. Compute_3 = (Y-Y_mean)^2\n",
        "Compute_1 = (Hercules_subtract_mean*Paheli_subtract_mean).sum()\n",
        "Compute_2 = (Hercules_subtract_mean*Hercules_subtract_mean).sum()\n",
        "Compute_3 = (Paheli_subtract_mean*Paheli_subtract_mean).sum()\n",
        "\n",
        "r2 = Compute_1/math.sqrt(Compute_2*Compute_3)\n",
        "print(\"Pearson's correlation coefficient when we calculate it using formula : \",round(r2[0],2))\n",
        "print(\"As expected, both coefficients values are equal (r1=r2)\")"
      ],
      "metadata": {
        "id": "oFj7AqoNEk6G"
      },
      "execution_count": null,
      "outputs": []
    },
    {
      "cell_type": "code",
      "source": [
        "Compute_1"
      ],
      "metadata": {
        "id": "gYmFjpI-8dya"
      },
      "execution_count": null,
      "outputs": []
    },
    {
      "cell_type": "code",
      "source": [
        "math.sqrt(Compute_2*Compute_3)"
      ],
      "metadata": {
        "id": "OORZB5tGT4Dp"
      },
      "execution_count": null,
      "outputs": []
    },
    {
      "cell_type": "code",
      "source": [
        "Paheli.mean()"
      ],
      "metadata": {
        "id": "UTbAj8m_gUPM"
      },
      "execution_count": null,
      "outputs": []
    },
    {
      "cell_type": "code",
      "source": [],
      "metadata": {
        "id": "Peo58r5KmLZH"
      },
      "execution_count": null,
      "outputs": []
    }
  ]
}